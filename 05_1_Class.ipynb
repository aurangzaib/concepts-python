{
 "cells": [
  {
   "cell_type": "code",
   "execution_count": null,
   "metadata": {},
   "outputs": [],
   "source": [
    "\"\"\"\n",
    "\n",
    " Description:\n",
    " Class\n",
    " \n",
    " Modifications:\n",
    " ---------------------------------------------------------------------------------------\n",
    " Date      Vers.  Comment                                                     Name\n",
    " ---------------------------------------------------------------------------------------\n",
    " 01.10.17  01.00  Created\t\t\t\t\t\t\t\t\t\t\t\t      Siddiqui\n",
    " 30.10.23  02.00  Updated\t\t\t\t\t\t\t\t\t\t\t\t      Siddiqui\n",
    " 29.01.24  03.00  Notebook\t\t\t\t\t\t\t\t\t\t\t\t      Siddiqui\n",
    " ---------------------------------------------------------------------------------------\n",
    "\n",
    "\"\"\""
   ]
  },
  {
   "cell_type": "markdown",
   "metadata": {},
   "source": [
    "---\n",
    "# **Link**\n",
    "---"
   ]
  },
  {
   "cell_type": "markdown",
   "metadata": {},
   "source": [
    "- https://realpython.com/python-classes"
   ]
  },
  {
   "cell_type": "markdown",
   "metadata": {},
   "source": [
    "---\n",
    "# **Note**\n",
    "---"
   ]
  },
  {
   "cell_type": "markdown",
   "metadata": {},
   "source": [
    "**Dunder (Double underscore)**\n",
    "- __init__  : Constructor\n",
    "- __new__   : Constructor with return value \n",
    "- __dict__  : All properties and methods of a class\n",
    "- __call__  : Defines functor behaviour \n",
    "- __str__   : \n",
    "- __repr__  : \n",
    "\n",
    "\n",
    "**Attributes**\n",
    "- Class property\n",
    "- Class method\n",
    "\n",
    "**Instance property**\n",
    "- It can only be accessed through instance\n",
    "- Unique for each instance\n",
    "\n",
    "**Static property**\n",
    "- It can be accessed through class or instance\n",
    "- Shared across all instances\n",
    "- Defined outside constructor\n",
    "\n",
    "**Static method**\n",
    "- It can be called through class or instance\n",
    "- Shared across all instances\n",
    "- It has no access to class attributes\n",
    "- @staticmethod\n",
    "\n",
    "**Class method**\n",
    "- It takes class as an argument rather than self\n",
    "- It has access to class\n",
    "- @classmethod\n",
    "\n",
    "**Private property**\n",
    "- Start a property with __\n",
    "\n",
    "**Getter/Setter**\n",
    "- Interface to avoid direct changes to properties\n",
    "- @property             -> Read\n",
    "- @propertyname.setter  -> Write\n",
    "\n",
    "**Dynamic Attributes**\n",
    "- Methods/properties can be added on runtime"
   ]
  },
  {
   "cell_type": "markdown",
   "metadata": {},
   "source": [
    "---\n",
    "# **Definition**\n",
    "---"
   ]
  },
  {
   "cell_type": "code",
   "execution_count": null,
   "metadata": {},
   "outputs": [],
   "source": [
    "class Cls:\n",
    "    # Static property\n",
    "    static_prop = 33\n",
    "\n",
    "    # Constructor\n",
    "    def __init__(self, a, b, c):\n",
    "        self.a, self.b, self.c = a, b, c  # Public properties\n",
    "        self.__priv = None  # Private properties\n",
    "\n",
    "    # Functor\n",
    "    def __call__(self):\n",
    "        return {\"a\": self.a, \"b\": self.b, \"c\": self.c, \"priv\": self.priv}\n",
    "\n",
    "    # Instance Method\n",
    "    def print(self):\n",
    "        print(self.a)\n",
    "\n",
    "    # Getter (interface for __priv)\n",
    "    @property\n",
    "    def priv(self):\n",
    "        return self.__priv\n",
    "\n",
    "    # Setter (interface for __priv)\n",
    "    @priv.setter\n",
    "    def priv(self, priv):\n",
    "        self.__priv = priv\n",
    "\n",
    "    # Class method\n",
    "    @classmethod\n",
    "    def init(cls, *argv, **kwargs):\n",
    "        return cls(*argv, **kwargs)  # Calling constructor\n",
    "\n",
    "    # Class method\n",
    "    @classmethod\n",
    "    def dict(cls):\n",
    "        return cls.__dict__\n",
    "\n",
    "    # Static method\n",
    "    @staticmethod\n",
    "    def static_method(param):\n",
    "        return param + 1"
   ]
  },
  {
   "cell_type": "markdown",
   "metadata": {},
   "source": [
    "---\n",
    "# **Usage**\n",
    "---"
   ]
  },
  {
   "cell_type": "code",
   "execution_count": null,
   "metadata": {},
   "outputs": [],
   "source": [
    "# Instance\n",
    "instance1 = Cls(1, 2, 3)  # Using constructor\n",
    "instance2 = Cls.init(9, 10, 11)  # Using class method\n",
    "\n",
    "# Static property\n",
    "instance1.static_prop\n",
    "Cls.static_prop\n",
    "\n",
    "# Static method\n",
    "instance1.static_method(1)\n",
    "Cls.static_method(1)\n",
    "\n",
    "# Instance method\n",
    "instance1.print()\n",
    "\n",
    "# Class method\n",
    "Cls.dict()\n",
    "\n",
    "# Functor\n",
    "print(\"Functor: \", instance1())\n",
    "\n",
    "# Read/write public property\n",
    "instance1.a = 10\n",
    "print(\"Public property: \", instance1.a)\n",
    "print(\"Public property: \", instance2.a)\n",
    "\n",
    "# Read/write private property through interface\n",
    "instance1.priv = 99  # Write __priv through priv\n",
    "print(\"Private property: \", instance1.priv)  # Read __priv through priv\n",
    "instance1._Cls__priv  # BAD PRACTICE"
   ]
  }
 ],
 "metadata": {
  "kernelspec": {
   "display_name": "projects",
   "language": "python",
   "name": "python3"
  },
  "language_info": {
   "codemirror_mode": {
    "name": "ipython",
    "version": 3
   },
   "file_extension": ".py",
   "mimetype": "text/x-python",
   "name": "python",
   "nbconvert_exporter": "python",
   "pygments_lexer": "ipython3",
   "version": "3.1.0"
  }
 },
 "nbformat": 4,
 "nbformat_minor": 2
}
