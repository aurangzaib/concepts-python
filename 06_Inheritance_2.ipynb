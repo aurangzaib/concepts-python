{
 "cells": [
  {
   "cell_type": "code",
   "execution_count": null,
   "metadata": {},
   "outputs": [],
   "source": [
    "\"\"\"\n",
    "\n",
    " Description:\n",
    " Inheritance\n",
    " \n",
    " Modifications:\n",
    " ---------------------------------------------------------------------------------------\n",
    " Date      Vers.  Comment                                                     Name\n",
    " ---------------------------------------------------------------------------------------\n",
    " 01.10.17  01.00  Created\t\t\t\t\t\t\t\t\t\t\t\t      Siddiqui\n",
    " 31.10.23  02.00  Updated\t\t\t\t\t\t\t\t\t\t\t\t      Siddiqui\n",
    " 30.01.24  03.00  Notebook\t\t\t\t\t\t\t\t\t\t\t\t      Siddiqui\n",
    " ---------------------------------------------------------------------------------------\n",
    "\n",
    "\"\"\""
   ]
  },
  {
   "cell_type": "markdown",
   "metadata": {},
   "source": [
    "---\n",
    "# **Note**\n",
    "---"
   ]
  },
  {
   "cell_type": "markdown",
   "metadata": {},
   "source": [
    "- Composition\n",
    "- Aggregation\n",
    "- Association\n"
   ]
  },
  {
   "cell_type": "markdown",
   "metadata": {},
   "source": [
    "---\n",
    "# **Base Class**\n",
    "---"
   ]
  },
  {
   "cell_type": "code",
   "execution_count": null,
   "metadata": {},
   "outputs": [],
   "source": [
    "class BaseClass:\n",
    "    def __init__(self, a, b):\n",
    "        self.a, self.__b = a, b\n",
    "\n",
    "    @property\n",
    "    def b(self):\n",
    "        return self.__b\n",
    "\n",
    "    @b.setter\n",
    "    def b(self, value):\n",
    "        self.__b = value\n",
    "\n",
    "    def getter(self):\n",
    "        return self.a  # Can also use @property\n",
    "\n",
    "    def setter(self, value):\n",
    "        self.a = value  # Can also use @propertyname.setter\n",
    "\n",
    "    def printer(self):\n",
    "        print(\"(a, b): ({}, {})\".format(self.a, self.__b))\n",
    "\n",
    "\n",
    "instance_base = BaseClass(1, 2)\n",
    "instance_base.setter(11)\n",
    "instance_base.a = 11.1\n",
    "instance_base.b = 9\n",
    "print(instance_base.a)\n",
    "print(instance_base.b)"
   ]
  },
  {
   "cell_type": "markdown",
   "metadata": {},
   "source": [
    "---\n",
    "# **Inheritance / Subclassing**\n",
    "---"
   ]
  },
  {
   "cell_type": "code",
   "execution_count": null,
   "metadata": {},
   "outputs": [],
   "source": [
    "class SubClassInheritance(BaseClass):\n",
    "    def __init__(self, a, b):\n",
    "        # Note: super is invoked unlike javascript\n",
    "        super().__init__(a, b)\n",
    "\n",
    "    def getter(self):\n",
    "        return super().getter()\n",
    "\n",
    "    def setter(self, value):\n",
    "        return super().setter(value)\n",
    "\n",
    "    def printer(self):\n",
    "        super().printer()\n",
    "        print(\"a:\", self.a, \"b:\", self.b)\n",
    "\n",
    "\n",
    "instance_sub1 = SubClassInheritance(5, 6)\n",
    "print(instance_sub1.getter())\n",
    "instance_sub1.printer()"
   ]
  },
  {
   "cell_type": "markdown",
   "metadata": {},
   "source": [
    "---\n",
    "# **Composition**\n",
    "---"
   ]
  },
  {
   "cell_type": "code",
   "execution_count": null,
   "metadata": {},
   "outputs": [],
   "source": [
    "class SubClassComposition1(BaseClass):\n",
    "    def __init__(self, a, b):\n",
    "        self.base = BaseClass(a, b)\n",
    "\n",
    "    def getter(self):\n",
    "        return {\"a\": self.base.a, \"b\": self.base.b}\n",
    "\n",
    "    def setter(self, a, b):\n",
    "        self.base.a, self.base.b = a, b\n",
    "\n",
    "    def printer(self):\n",
    "        self.base.printer()\n",
    "\n",
    "\n",
    "instance_sub2 = SubClassComposition1(5, 6)\n",
    "instance_sub2.getter()  # Subclass method\n",
    "instance_sub2.base.getter()  # Baseclass method\n",
    "instance_sub2.setter(11.1, 9)  # Subclass method\n",
    "instance_sub2.base.printer()  # Baseclass method"
   ]
  },
  {
   "cell_type": "markdown",
   "metadata": {},
   "source": [
    "---\n",
    "# **Composition (Dependency Injection)**\n",
    "---"
   ]
  },
  {
   "cell_type": "code",
   "execution_count": null,
   "metadata": {},
   "outputs": [],
   "source": [
    "class SubClassComposition2(BaseClass):\n",
    "    def __init__(self, base):\n",
    "        self.base = base\n",
    "\n",
    "    # ...\n",
    "\n",
    "\n",
    "instance_sub3 = SubClassComposition2(BaseClass(5, 6))"
   ]
  }
 ],
 "metadata": {
  "kernelspec": {
   "display_name": "projects",
   "language": "python",
   "name": "python3"
  },
  "language_info": {
   "codemirror_mode": {
    "name": "ipython",
    "version": 3
   },
   "file_extension": ".py",
   "mimetype": "text/x-python",
   "name": "python",
   "nbconvert_exporter": "python",
   "pygments_lexer": "ipython3",
   "version": "3.1.0"
  }
 },
 "nbformat": 4,
 "nbformat_minor": 2
}
