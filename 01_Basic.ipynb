{
 "cells": [
  {
   "cell_type": "code",
   "execution_count": 3,
   "metadata": {},
   "outputs": [],
   "source": [
    "\"\"\"\n",
    " Description:\n",
    " Basic\n",
    " \n",
    " Modifications:\n",
    " ---------------------------------------------------------------------------------------\n",
    " Date      Vers.  Comment                                                     Name\n",
    " ---------------------------------------------------------------------------------------\n",
    " 01.10.17  01.00  Created\t\t\t\t\t\t\t\t\t\t\t\t      Siddiqui\n",
    " 31.10.23  02.00  Updated\t\t\t\t\t\t\t\t\t\t\t\t      Siddiqui\n",
    " ---------------------------------------------------------------------------------------\n",
    "\"\"\"\n",
    "\n",
    "# System Libraries\n",
    "# import antigravity\n",
    "import numpy as np\n",
    "import math"
   ]
  },
  {
   "cell_type": "markdown",
   "metadata": {},
   "source": [
    "`__name__` is a conditional check\n",
    "\n",
    "It makes sure the snippet runs only when the file is directly called"
   ]
  },
  {
   "cell_type": "code",
   "execution_count": 4,
   "metadata": {},
   "outputs": [],
   "source": [
    "a, b, c, d = 11.23444, 2, 3, [1, 2, 3]"
   ]
  },
  {
   "cell_type": "markdown",
   "metadata": {},
   "source": [
    "**Print**"
   ]
  },
  {
   "cell_type": "code",
   "execution_count": null,
   "metadata": {},
   "outputs": [],
   "source": [
    "# Print w/o new line\n",
    "print(\"Hello World\", end=\" \")\n",
    "# Print formatter\n",
    "print(\"a: {}, b: {}, c: {}\".format(a, b, c))\n",
    "print(\"{:2.3f}\".format(a))"
   ]
  },
  {
   "cell_type": "markdown",
   "metadata": {},
   "source": [
    "**Any/All**"
   ]
  },
  {
   "cell_type": "code",
   "execution_count": null,
   "metadata": {},
   "outputs": [],
   "source": [
    "a, b, c = True, False, False\n",
    "print(any((a, b, c)))  # any one of them should be true\n",
    "print(all((a, b, c)))  # all of them should be true"
   ]
  },
  {
   "cell_type": "markdown",
   "metadata": {},
   "source": [
    "**Ceil/Floor**"
   ]
  },
  {
   "cell_type": "code",
   "execution_count": 5,
   "metadata": {},
   "outputs": [
    {
     "name": "stdout",
     "output_type": "stream",
     "text": [
      "3\n",
      "2\n"
     ]
    }
   ],
   "source": [
    "a = 2.333\n",
    "print(math.ceil(a))  # higher integer value\n",
    "print(math.floor(a))  # lower integer value"
   ]
  },
  {
   "cell_type": "markdown",
   "metadata": {},
   "source": [
    "**Identity / Equality**"
   ]
  },
  {
   "cell_type": "code",
   "execution_count": 6,
   "metadata": {},
   "outputs": [
    {
     "data": {
      "text/plain": [
       "False"
      ]
     },
     "execution_count": 6,
     "metadata": {},
     "output_type": "execute_result"
    }
   ],
   "source": [
    "a is b  # Identity operator: true if a and b both points to same object. Deprecated\n",
    "a == b  # Equality operator: true if a and b have same value. Recommended"
   ]
  },
  {
   "cell_type": "markdown",
   "metadata": {},
   "source": [
    "**Datatypes**"
   ]
  },
  {
   "cell_type": "code",
   "execution_count": null,
   "metadata": {},
   "outputs": [],
   "source": [
    "type_integer = 2  # Integer\n",
    "type_float = 2.3  # Float\n",
    "type_complex = 1 + 2.3j  # Complex\n",
    "type_string = \"string\"  # String\n",
    "type_list = [1, 2, 3]  # Ordered List (Mutable)\n",
    "type_set = set([1, 2, 3])  # Unordered List\n",
    "type_tuple = (1, 2, 3)  # Tuple (Immutable)\n",
    "type_range = range(0, 10, 2)  # Range (Immutable)\n",
    "type_dict = {\"x\": 1, \"y\": 1.2}  # Dicionary (Mutable)\n",
    "type_dictlist = [{\"x\": 1}, {\"y\": 2}]  # Dictionary List (Mutable)\n",
    "type_frozen = frozenset({\"x\": 1})  # Frozenset (Immutable and Noniterable)\n",
    "type_nparray = np.array([1, 2, 3])  # Numpy Array (Mutable)"
   ]
  },
  {
   "cell_type": "markdown",
   "metadata": {},
   "source": [
    "**Datatypes Access**"
   ]
  },
  {
   "cell_type": "code",
   "execution_count": null,
   "metadata": {},
   "outputs": [],
   "source": [
    "type_complex.real, type_complex.imag\n",
    "type_list[0], type_list[-1]\n",
    "type_tuple[0]\n",
    "type_dict[\"x\"]\n",
    "type_nparray[0]"
   ]
  }
 ],
 "metadata": {
  "kernelspec": {
   "display_name": "projects",
   "language": "python",
   "name": "python3"
  },
  "language_info": {
   "codemirror_mode": {
    "name": "ipython",
    "version": 3
   },
   "file_extension": ".py",
   "mimetype": "text/x-python",
   "name": "python",
   "nbconvert_exporter": "python",
   "pygments_lexer": "ipython3",
   "version": "3.11.7"
  }
 },
 "nbformat": 4,
 "nbformat_minor": 2
}
