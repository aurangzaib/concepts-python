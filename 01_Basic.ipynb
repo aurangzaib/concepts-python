{
 "cells": [
  {
   "cell_type": "code",
   "execution_count": null,
   "metadata": {},
   "outputs": [],
   "source": [
    "\"\"\"\n",
    "\n",
    " Description:\n",
    " Basic\n",
    " \n",
    " Modifications:\n",
    " ---------------------------------------------------------------------------------------\n",
    " Date      Vers.  Comment                                                     Name\n",
    " ---------------------------------------------------------------------------------------\n",
    " 01.10.17  01.00  Created\t\t\t\t\t\t\t\t\t\t\t\t      Siddiqui\n",
    " 31.10.23  02.00  Updated\t\t\t\t\t\t\t\t\t\t\t\t      Siddiqui\n",
    " 29.01.24  03.00  Notebook\t\t\t\t\t\t\t\t\t\t\t\t      Siddiqui\n",
    " ---------------------------------------------------------------------------------------\n",
    "\n",
    "\"\"\""
   ]
  },
  {
   "cell_type": "code",
   "execution_count": null,
   "metadata": {},
   "outputs": [],
   "source": [
    "# System Libraries\n",
    "# import antigravity\n",
    "import math"
   ]
  },
  {
   "cell_type": "markdown",
   "metadata": {},
   "source": [
    "---\n",
    "# **Notes**\n",
    "---"
   ]
  },
  {
   "cell_type": "markdown",
   "metadata": {},
   "source": [
    "- `__name__` is a conditional check\n",
    "- It makes sure the snippet runs only when the file is directly called"
   ]
  },
  {
   "cell_type": "code",
   "execution_count": null,
   "metadata": {},
   "outputs": [],
   "source": [
    "a, b, c, d = 11.23444, 2, 3, [1, 2, 3]"
   ]
  },
  {
   "cell_type": "markdown",
   "metadata": {},
   "source": [
    "---\n",
    "# **Print**\n",
    "---"
   ]
  },
  {
   "cell_type": "code",
   "execution_count": null,
   "metadata": {},
   "outputs": [],
   "source": [
    "# Print w/o new line\n",
    "print(\"Hello World\", end=\" \")\n",
    "# Print formatter\n",
    "print(\"a: {}, b: {}, c: {}\".format(a, b, c))\n",
    "print(\"{:2.3f}\".format(a))"
   ]
  },
  {
   "cell_type": "markdown",
   "metadata": {},
   "source": [
    "---\n",
    "# **Any/All**\n",
    "---"
   ]
  },
  {
   "cell_type": "code",
   "execution_count": null,
   "metadata": {},
   "outputs": [],
   "source": [
    "a, b, c = True, False, False\n",
    "print(any((a, b, c)))  # any one of them should be true\n",
    "print(all((a, b, c)))  # all of them should be true"
   ]
  },
  {
   "cell_type": "markdown",
   "metadata": {},
   "source": [
    "---\n",
    "# **Ceil/Floor/Round**\n",
    "---"
   ]
  },
  {
   "cell_type": "code",
   "execution_count": null,
   "metadata": {},
   "outputs": [],
   "source": [
    "a = 2.333\n",
    "print(math.ceil(a))  # higher integer value\n",
    "print(math.floor(a))  # lower integer value\n",
    "print(round(a))  # round interger value"
   ]
  },
  {
   "cell_type": "markdown",
   "metadata": {},
   "source": [
    "---\n",
    "# **Identity / Equality**\n",
    "---"
   ]
  },
  {
   "cell_type": "code",
   "execution_count": null,
   "metadata": {},
   "outputs": [],
   "source": [
    "a is b  # Identity operator: true if a and b both points to same object. Deprecated\n",
    "a == b  # Equality operator: true if a and b have same value. Recommended"
   ]
  },
  {
   "cell_type": "markdown",
   "metadata": {},
   "source": [
    "---\n",
    "# **Datatypes**\n",
    "---"
   ]
  },
  {
   "cell_type": "code",
   "execution_count": null,
   "metadata": {},
   "outputs": [],
   "source": [
    "type_integer = 2  # Integer\n",
    "type_float = 2.3  # Float\n",
    "type_complex = 1 + 2.3j  # Complex\n",
    "type_string = \"string\"  # String\n",
    "type_list = [1, 2, 3]  # Ordered List (Mutable)\n",
    "type_set = set([1, 2, 3])  # Unordered List\n",
    "type_tuple = (1, 2, 3)  # Tuple (Immutable)\n",
    "type_range = range(0, 10, 2)  # Range (Immutable)\n",
    "type_dict = {\"x\": 1, \"y\": 1.2}  # Dicionary (Mutable)\n",
    "type_dictlist = [{\"x\": 1}, {\"y\": 2}]  # Dictionary List (Mutable)\n",
    "type_frozen = frozenset({\"x\": 1})  # Frozenset (Immutable and Noniterable)"
   ]
  },
  {
   "cell_type": "markdown",
   "metadata": {},
   "source": [
    "---\n",
    "# **Datatypes Access**\n",
    "---"
   ]
  },
  {
   "cell_type": "code",
   "execution_count": null,
   "metadata": {},
   "outputs": [],
   "source": [
    "type_complex.real, type_complex.imag\n",
    "type_list[0], type_list[-1]\n",
    "type_tuple[0]\n",
    "type_dict[\"x\"]"
   ]
  }
 ],
 "metadata": {
  "kernelspec": {
   "display_name": "projects",
   "language": "python",
   "name": "python3"
  },
  "language_info": {
   "codemirror_mode": {
    "name": "ipython",
    "version": 3
   },
   "file_extension": ".py",
   "mimetype": "text/x-python",
   "name": "python",
   "nbconvert_exporter": "python",
   "pygments_lexer": "ipython3",
   "version": "3.11.7"
  }
 },
 "nbformat": 4,
 "nbformat_minor": 2
}
