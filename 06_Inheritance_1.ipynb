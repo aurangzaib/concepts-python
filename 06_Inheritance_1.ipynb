{
 "cells": [
  {
   "cell_type": "code",
   "execution_count": null,
   "metadata": {},
   "outputs": [],
   "source": [
    "\"\"\"\n",
    "\n",
    " Description:\n",
    " Inheritance\n",
    " \n",
    " Modifications:\n",
    " ---------------------------------------------------------------------------------------\n",
    " Date      Vers.  Comment                                                     Name\n",
    " ---------------------------------------------------------------------------------------\n",
    " 29.01.24  01.00  Created                                                    Siddiqui\n",
    " 30.01.24  02.00  Notebook\t\t\t\t\t\t\t\t\t\t\t\t      Siddiqui\n",
    " ---------------------------------------------------------------------------------------\n",
    "\n",
    "\"\"\""
   ]
  },
  {
   "cell_type": "markdown",
   "metadata": {},
   "source": [
    "---\n",
    "# **Base Class**\n",
    "---"
   ]
  },
  {
   "cell_type": "code",
   "execution_count": 3,
   "metadata": {},
   "outputs": [],
   "source": [
    "class BaseClass:\n",
    "    def __init__(self, a, b):\n",
    "        self.a = a\n",
    "        self.b = b\n",
    "\n",
    "    def getter(self):\n",
    "        return self.a, self.b"
   ]
  },
  {
   "cell_type": "markdown",
   "metadata": {},
   "source": [
    "---\n",
    "# **Sub Class**\n",
    "---"
   ]
  },
  {
   "cell_type": "code",
   "execution_count": 7,
   "metadata": {},
   "outputs": [],
   "source": [
    "class SubClass(BaseClass):\n",
    "    def __init__(self, a: int, b: int, c: int, base: BaseClass):\n",
    "        # ----------------------------------------------------\n",
    "        # Inheritance / Subclassing\n",
    "        # ----------------------------------------------------\n",
    "        super().__init__(a, b)\n",
    "        # ----------------------------------------------------\n",
    "        # Composition\n",
    "        # ----------------------------------------------------\n",
    "        self.base1 = BaseClass(a, b)\n",
    "        # ----------------------------------------------------\n",
    "        # Dependency Injection\n",
    "        # ----------------------------------------------------\n",
    "        self.base2 = base\n",
    "        # ----------------------------------------------------\n",
    "        # Own properties\n",
    "        # ----------------------------------------------------\n",
    "        self.c = c\n",
    "\n",
    "    def getter(self):\n",
    "        inherited_props = super().getter()\n",
    "        return {\n",
    "            \"inherited_props\": inherited_props,\n",
    "            \"composed_props\": self.base1.getter(),\n",
    "            \"injected_props\": self.base2.getter(),\n",
    "            \"own_props\": self.c,\n",
    "        }"
   ]
  },
  {
   "cell_type": "markdown",
   "metadata": {},
   "source": [
    "---\n",
    "# **Usage**\n",
    "---"
   ]
  },
  {
   "cell_type": "code",
   "execution_count": 8,
   "metadata": {},
   "outputs": [
    {
     "data": {
      "text/plain": [
       "{'inherited_props': (1, 2),\n",
       " 'composed_props': (1, 2),\n",
       " 'injected_props': (0, 0),\n",
       " 'own_props': 3}"
      ]
     },
     "execution_count": 8,
     "metadata": {},
     "output_type": "execute_result"
    }
   ],
   "source": [
    "ins = SubClass(1, 2, 3, BaseClass(0, 0))\n",
    "ins.getter()"
   ]
  }
 ],
 "metadata": {
  "kernelspec": {
   "display_name": "projects",
   "language": "python",
   "name": "python3"
  },
  "language_info": {
   "codemirror_mode": {
    "name": "ipython",
    "version": 3
   },
   "file_extension": ".py",
   "mimetype": "text/x-python",
   "name": "python",
   "nbconvert_exporter": "python",
   "pygments_lexer": "ipython3",
   "version": "3.11.7"
  }
 },
 "nbformat": 4,
 "nbformat_minor": 2
}
