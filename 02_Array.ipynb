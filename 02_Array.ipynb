{
 "cells": [
  {
   "cell_type": "code",
   "execution_count": null,
   "metadata": {},
   "outputs": [],
   "source": [
    "\"\"\"\n",
    "\n",
    " Description:\n",
    " Array\n",
    " \n",
    " Modifications:\n",
    " ---------------------------------------------------------------------------------------\n",
    " Date      Vers.  Comment                                                     Name\n",
    " ---------------------------------------------------------------------------------------\n",
    " 01.10.17  01.00  Created\t\t\t\t\t\t\t\t\t\t\t\t      Siddiqui\n",
    " 31.10.23  02.00  Updated\t\t\t\t\t\t\t\t\t\t\t\t      Siddiqui\n",
    " 30.01.24  03.00  Notebook\t\t\t\t\t\t\t\t\t\t\t\t      Siddiqui\n",
    " 12.04.24  04.00  Fixes                                                       Siddiqui\n",
    " ---------------------------------------------------------------------------------------\n",
    "\n",
    "\"\"\""
   ]
  },
  {
   "cell_type": "code",
   "execution_count": null,
   "metadata": {},
   "outputs": [],
   "source": [
    "# System Libraries\n",
    "import numpy as np"
   ]
  },
  {
   "cell_type": "markdown",
   "metadata": {},
   "source": [
    "---\n",
    "#  **Python List**\n",
    "---"
   ]
  },
  {
   "cell_type": "code",
   "execution_count": null,
   "metadata": {},
   "outputs": [],
   "source": [
    "# ----------------------------------------------------\n",
    "# Create\n",
    "# ----------------------------------------------------\n",
    "list1 = [1, 2.2, \"3\"]\n",
    "\n",
    "# ----------------------------------------------------\n",
    "# Access\n",
    "# ----------------------------------------------------\n",
    "list1[0]\n",
    "list1[-1]\n",
    "\n",
    "# ----------------------------------------------------\n",
    "# Methods\n",
    "# ----------------------------------------------------\n",
    "list1.append(4)  # Add element at the end\n",
    "list1.insert(4, 1)  # Add element at the position\n",
    "list1.reverse()  # Reverse elements\n",
    "list1.extend([97, 98, 99])  # Add elements at the end\n",
    "list1.pop()  # Remove element at the end\n",
    "list1.pop(1)  # Remove element at the position\n",
    "list1.remove(1)  # Remove element with value (NOT INDEX)\n",
    "\n",
    "# ----------------------------------------------------\n",
    "# Slicing\n",
    "# ----------------------------------------------------\n",
    "list1[:2]  # Slice from 1st to 2nd elements\n",
    "list1[2:-2]  # Slice from 3rd to 2nd last elements\n",
    "list1[2:]  # Slice from 3rd to last elements\n",
    "\n",
    "# ----------------------------------------------------\n",
    "# Length\n",
    "# ----------------------------------------------------\n",
    "len(list1)\n",
    "\n",
    "# ----------------------------------------------------\n",
    "# Delete\n",
    "# ----------------------------------------------------\n",
    "del list1\n",
    "\n",
    "# ----------------------------------------------------\n",
    "# List using List Comprehension\n",
    "# ----------------------------------------------------\n",
    "list1 = [x for x in range(10)]\n",
    "\n",
    "# ----------------------------------------------------\n",
    "# List using Generator Comprehension\n",
    "# ----------------------------------------------------\n",
    "list2 = list((x for x in range(10)))\n",
    "\n",
    "# ----------------------------------------------------\n",
    "# List using Range Generator\n",
    "# ----------------------------------------------------\n",
    "list3 = list(range(10))"
   ]
  },
  {
   "cell_type": "markdown",
   "metadata": {},
   "source": [
    "---\n",
    "#  **Numpy Array**\n",
    "---"
   ]
  },
  {
   "cell_type": "code",
   "execution_count": null,
   "metadata": {},
   "outputs": [],
   "source": [
    "# ----------------------------------------------------\n",
    "# Definition\n",
    "# ----------------------------------------------------\n",
    "list4 = np.array(range(10))\n",
    "list4 = np.zeros(shape=(10))\n",
    "list4 = np.ones(shape=(10))\n",
    "list4 = np.random.permutation(10)  # random numbers from 0 to 10\n",
    "list4 = np.random.uniform(size=(2, 10))  # 2 rows, 10 columns\n",
    "list4 = np.random.normal(size=(2, 10))\n",
    "mtx1 = np.array([[1, 2, 3], [99, 99, 99]])\n",
    "\n",
    "# ----------------------------------------------------\n",
    "# Access\n",
    "# ----------------------------------------------------\n",
    "mtx1[0][2]\n",
    "mtx1[0, 2]\n",
    "mtx1[:, 1]\n",
    "mtx1[0, :]\n",
    "\n",
    "# ----------------------------------------------------\n",
    "# Usage\n",
    "# ----------------------------------------------------\n",
    "list4.size  # size of numpy array\n",
    "list4.tolist()  # numpy array to python list\n",
    "mtx1.shape  # rows and columns of numpy matrix\n",
    "np.random.shuffle(list4)  # Shuffle a list\n",
    "\n",
    "# ----------------------------------------------------\n",
    "# Mean\n",
    "# ----------------------------------------------------\n",
    "np.mean(list4)\n",
    "list4.mean()\n",
    "\n",
    "# ----------------------------------------------------\n",
    "# Standard deviation\n",
    "# ----------------------------------------------------\n",
    "np.std(list4)\n",
    "list4.std()\n",
    "\n",
    "# ----------------------------------------------------\n",
    "# Shuffle\n",
    "# ----------------------------------------------------\n",
    "indices = np.random.permutation(list4.shape[0])\n",
    "list4 = list4[indices]"
   ]
  },
  {
   "cell_type": "markdown",
   "metadata": {},
   "source": [
    "---\n",
    "#  **Numpy Stacking**\n",
    "---"
   ]
  },
  {
   "cell_type": "code",
   "execution_count": null,
   "metadata": {},
   "outputs": [],
   "source": [
    "l1 = np.array([1, 2, 3])\n",
    "l2 = np.array([1, 2, 3])\n",
    "# ----------------------------------------------------\n",
    "# Merge as elements (Column vector)\n",
    "# ----------------------------------------------------\n",
    "np.hstack((l2, l2))\n",
    "np.concatenate((l1, l2), axis=0)\n",
    "# ----------------------------------------------------\n",
    "# Merge as arrays   (Row vector)\n",
    "# ----------------------------------------------------\n",
    "np.vstack((l2, l2))"
   ]
  },
  {
   "cell_type": "markdown",
   "metadata": {},
   "source": [
    "---\n",
    "#  **Dictionary Access**\n",
    "---"
   ]
  },
  {
   "cell_type": "code",
   "execution_count": null,
   "metadata": {},
   "outputs": [],
   "source": [
    "dict1 = {\"x\": 1, \"y\": 1.2}\n",
    "dict1.items()  # Key, Value pair\n",
    "dict1.keys()  # Keys\n",
    "dict1.values()  # Values"
   ]
  },
  {
   "cell_type": "markdown",
   "metadata": {},
   "source": [
    "---\n",
    "#  **Iterator Protocol**\n",
    "---"
   ]
  },
  {
   "cell_type": "code",
   "execution_count": null,
   "metadata": {},
   "outputs": [],
   "source": [
    "# __iter__(): It returns an iterator object\n",
    "# __next__(): It returns the next iterator item"
   ]
  },
  {
   "cell_type": "markdown",
   "metadata": {},
   "source": [
    "---\n",
    "#  **Iterable**\n",
    "---"
   ]
  },
  {
   "cell_type": "markdown",
   "metadata": {},
   "source": [
    "- It doesn't save current state of iteration\n",
    "- It implements __iter__()\n",
    "- It is subscriptable using index\n",
    "- It is used with function (return)"
   ]
  },
  {
   "cell_type": "code",
   "execution_count": null,
   "metadata": {},
   "outputs": [],
   "source": [
    "iterable1 = list(range(10))\n",
    "iterable2 = [x for x in range(10)]\n",
    "iterable3 = list(x for x in range(10))\n",
    "print(iterable2[1])  # Allowed"
   ]
  },
  {
   "cell_type": "markdown",
   "metadata": {},
   "source": [
    "---\n",
    "#  **Iterator**\n",
    "---"
   ]
  },
  {
   "cell_type": "markdown",
   "metadata": {},
   "source": [
    "- It saves current state of iteration\n",
    "- It implements __iter__() and __next__()\n",
    "- It is **NOT** subscriptable using index\n",
    "- It is used with generator (yield)\n",
    "- **StopIteration** is raised when all elements are already iterated"
   ]
  },
  {
   "cell_type": "code",
   "execution_count": null,
   "metadata": {},
   "outputs": [],
   "source": [
    "iterator1 = iter(range(10))\n",
    "iterator2 = (x for x in range(10))\n",
    "iterable3 = iter(iterable1)\n",
    "for index, element in enumerate(iterator1):\n",
    "    print(element)\n",
    "    if index == 4:\n",
    "        break\n",
    "print(next(iterator1))  # State of iteration was saved\n",
    "print(*iterator1)  # Access full iterator\n",
    "# print(iterator1[1])  # NOT allowed"
   ]
  }
 ],
 "metadata": {
  "kernelspec": {
   "display_name": "projects",
   "language": "python",
   "name": "python3"
  },
  "language_info": {
   "codemirror_mode": {
    "name": "ipython",
    "version": 3
   },
   "file_extension": ".py",
   "mimetype": "text/x-python",
   "name": "python",
   "nbconvert_exporter": "python",
   "pygments_lexer": "ipython3",
   "version": "3.11.7"
  }
 },
 "nbformat": 4,
 "nbformat_minor": 2
}
