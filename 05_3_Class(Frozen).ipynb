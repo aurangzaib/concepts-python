{
 "cells": [
  {
   "cell_type": "code",
   "execution_count": 7,
   "metadata": {},
   "outputs": [],
   "source": [
    "\"\"\"\n",
    "\n",
    " Description:\n",
    " Frozen Data Class\n",
    " \n",
    " Modifications:\n",
    " ---------------------------------------------------------------------------------------\n",
    " Date      Vers.  Comment                                                     Name\n",
    " ---------------------------------------------------------------------------------------\n",
    " 01.10.17  01.00  Created\t\t\t\t\t\t\t\t\t\t\t\t      Siddiqui\n",
    " 31.10.23  02.00  Updated\t\t\t\t\t\t\t\t\t\t\t\t      Siddiqui\n",
    " 30.01.24  03.00  Notebook\t\t\t\t\t\t\t\t\t\t\t\t      Siddiqui\n",
    " ---------------------------------------------------------------------------------------\n",
    "\n",
    "\"\"\"\n",
    "\n",
    "from dataclasses import dataclass, field"
   ]
  },
  {
   "cell_type": "markdown",
   "metadata": {},
   "source": [
    "---\n",
    "# **Definition**\n",
    "---"
   ]
  },
  {
   "cell_type": "code",
   "execution_count": 5,
   "metadata": {},
   "outputs": [],
   "source": [
    "class C0:\n",
    "    def __init__(self):\n",
    "        self.a: int = 1\n",
    "\n",
    "\n",
    "@dataclass\n",
    "class C1:\n",
    "    b: int = 2\n",
    "\n",
    "\n",
    "@dataclass(frozen=True)\n",
    "class C2:\n",
    "    c: int = 3\n",
    "\n",
    "\n",
    "@dataclass(frozen=True)\n",
    "class C3:\n",
    "    c0: C0 = C0()\n",
    "    c1: C1 = field(default_factory=C1)\n",
    "    c2: C2 = C2()\n",
    "    d: int = 4"
   ]
  },
  {
   "cell_type": "markdown",
   "metadata": {},
   "source": [
    "---\n",
    "# **Usage**\n",
    "---"
   ]
  },
  {
   "cell_type": "code",
   "execution_count": 6,
   "metadata": {},
   "outputs": [
    {
     "ename": "FrozenInstanceError",
     "evalue": "cannot assign to field 'c'",
     "output_type": "error",
     "traceback": [
      "\u001b[0;31m---------------------------------------------------------------------------\u001b[0m",
      "\u001b[0;31mFrozenInstanceError\u001b[0m                       Traceback (most recent call last)",
      "Cell \u001b[0;32mIn[6], line 4\u001b[0m\n\u001b[1;32m      2\u001b[0m c3\u001b[38;5;241m.\u001b[39mc0\u001b[38;5;241m.\u001b[39ma \u001b[38;5;241m=\u001b[39m \u001b[38;5;241m99\u001b[39m  \u001b[38;5;66;03m# allowed\u001b[39;00m\n\u001b[1;32m      3\u001b[0m c3\u001b[38;5;241m.\u001b[39mc1\u001b[38;5;241m.\u001b[39mb \u001b[38;5;241m=\u001b[39m \u001b[38;5;241m99\u001b[39m  \u001b[38;5;66;03m# allowed\u001b[39;00m\n\u001b[0;32m----> 4\u001b[0m \u001b[43mc3\u001b[49m\u001b[38;5;241;43m.\u001b[39;49m\u001b[43mc2\u001b[49m\u001b[38;5;241;43m.\u001b[39;49m\u001b[43mc\u001b[49m \u001b[38;5;241m=\u001b[39m \u001b[38;5;241m99\u001b[39m  \u001b[38;5;66;03m# NOT allowed\u001b[39;00m\n\u001b[1;32m      5\u001b[0m c3\u001b[38;5;241m.\u001b[39md \u001b[38;5;241m=\u001b[39m \u001b[38;5;241m99\u001b[39m  \u001b[38;5;66;03m# NOT allowed\u001b[39;00m\n",
      "File \u001b[0;32m<string>:4\u001b[0m, in \u001b[0;36m__setattr__\u001b[0;34m(self, name, value)\u001b[0m\n",
      "\u001b[0;31mFrozenInstanceError\u001b[0m: cannot assign to field 'c'"
     ]
    }
   ],
   "source": [
    "c3 = C3()\n",
    "c3.c0.a = 99  # allowed\n",
    "c3.c1.b = 99  # allowed\n",
    "c3.c2.c = 99  # NOT allowed\n",
    "c3.d = 99  # NOT allowed"
   ]
  }
 ],
 "metadata": {
  "kernelspec": {
   "display_name": "projects",
   "language": "python",
   "name": "python3"
  },
  "language_info": {
   "codemirror_mode": {
    "name": "ipython",
    "version": 3
   },
   "file_extension": ".py",
   "mimetype": "text/x-python",
   "name": "python",
   "nbconvert_exporter": "python",
   "pygments_lexer": "ipython3",
   "version": "3.11.7"
  }
 },
 "nbformat": 4,
 "nbformat_minor": 2
}
