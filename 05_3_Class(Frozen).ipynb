{
 "cells": [
  {
   "cell_type": "code",
   "execution_count": null,
   "metadata": {},
   "outputs": [],
   "source": [
    "\"\"\"\n",
    "\n",
    " Description:\n",
    " Frozen Data Class\n",
    " \n",
    " Modifications:\n",
    " ---------------------------------------------------------------------------------------\n",
    " Date      Vers.  Comment                                                     Name\n",
    " ---------------------------------------------------------------------------------------\n",
    " 01.10.17  01.00  Created\t\t\t\t\t\t\t\t\t\t\t\t      Siddiqui\n",
    " 31.10.23  02.00  Updated\t\t\t\t\t\t\t\t\t\t\t\t      Siddiqui\n",
    " 30.01.24  03.00  Notebook\t\t\t\t\t\t\t\t\t\t\t\t      Siddiqui\n",
    " ---------------------------------------------------------------------------------------\n",
    "\n",
    "\"\"\""
   ]
  },
  {
   "cell_type": "code",
   "execution_count": null,
   "metadata": {},
   "outputs": [],
   "source": [
    "from dataclasses import dataclass, field"
   ]
  },
  {
   "cell_type": "markdown",
   "metadata": {},
   "source": [
    "---\n",
    "# **Definition**\n",
    "---"
   ]
  },
  {
   "cell_type": "code",
   "execution_count": null,
   "metadata": {},
   "outputs": [],
   "source": [
    "class C0:\n",
    "    def __init__(self):\n",
    "        self.a: int = 1\n",
    "\n",
    "\n",
    "@dataclass\n",
    "class C1:\n",
    "    b: int = 2\n",
    "\n",
    "\n",
    "@dataclass(frozen=True)\n",
    "class C2:\n",
    "    c: int = 3\n",
    "\n",
    "\n",
    "@dataclass(frozen=True)\n",
    "class C3:\n",
    "    c0: C0 = C0()\n",
    "    c1: C1 = field(default_factory=C1)\n",
    "    c2: C2 = C2()\n",
    "    d: int = 4"
   ]
  },
  {
   "cell_type": "markdown",
   "metadata": {},
   "source": [
    "---\n",
    "# **Usage**\n",
    "---"
   ]
  },
  {
   "cell_type": "code",
   "execution_count": null,
   "metadata": {},
   "outputs": [],
   "source": [
    "c3 = C3()\n",
    "c3.c0.a = 99  # allowed\n",
    "c3.c1.b = 99  # allowed\n",
    "c3.c2.c = 99  # NOT allowed\n",
    "c3.d = 99  # NOT allowed"
   ]
  }
 ],
 "metadata": {
  "kernelspec": {
   "display_name": "projects",
   "language": "python",
   "name": "python3"
  },
  "language_info": {
   "codemirror_mode": {
    "name": "ipython",
    "version": 3
   },
   "file_extension": ".py",
   "mimetype": "text/x-python",
   "name": "python",
   "nbconvert_exporter": "python",
   "pygments_lexer": "ipython3",
   "version": "3.1.0"
  }
 },
 "nbformat": 4,
 "nbformat_minor": 2
}
