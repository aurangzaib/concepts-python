{
 "cells": [
  {
   "cell_type": "code",
   "execution_count": null,
   "metadata": {},
   "outputs": [],
   "source": [
    "\"\"\"\n",
    "\n",
    " Description:\n",
    " Function\n",
    " \n",
    " Modifications:\n",
    " ---------------------------------------------------------------------------------------\n",
    " Date      Vers.  Comment                                                     Name\n",
    " ---------------------------------------------------------------------------------------\n",
    " 01.10.17  01.00  Created\t\t\t\t\t\t\t\t\t\t\t\t      Siddiqui\n",
    " 30.10.23  02.00  Updated\t\t\t\t\t\t\t\t\t\t\t\t      Siddiqui\n",
    " 29.01.24  03.00  Notebook\t\t\t\t\t\t\t\t\t\t\t\t      Siddiqui\n",
    " ---------------------------------------------------------------------------------------\n",
    "\n",
    "\"\"\"\n",
    "\n",
    "from dataclasses import dataclass\n",
    "from typing import Callable\n",
    "import numpy as np\n",
    "import functools\n",
    "import time\n",
    "\n",
    "input_filename = \"Resources/dummy.csv\"\n",
    "input_array = list(range(10))\n",
    "input_dict = {\"x\": 1}"
   ]
  },
  {
   "cell_type": "markdown",
   "metadata": {},
   "source": [
    "---\n",
    "# **Notes**\n",
    "---\n",
    "\n",
    "**Links:**\n",
    "- https://realpython.com/introduction-to-python-generators/\n",
    "- https://www.geeksforgeeks.org/generators-in-python/\n",
    "- https://realpython.com/primer-on-python-decorators/\n",
    "\n",
    "\n",
    "**Notes:**\n",
    "- Function overloading is **not possible** due to dynamic types"
   ]
  },
  {
   "cell_type": "markdown",
   "metadata": {},
   "source": [
    "---\n",
    "# **Variadic Function**\n",
    "---"
   ]
  },
  {
   "cell_type": "markdown",
   "metadata": {},
   "source": [
    "**Variadic List**"
   ]
  },
  {
   "cell_type": "code",
   "execution_count": null,
   "metadata": {},
   "outputs": [],
   "source": [
    "# argv means variable arguments\n",
    "def function5(*argv):\n",
    "    for arg in argv:\n",
    "        print(arg)\n",
    "\n",
    "\n",
    "function5(1, 2, 3)"
   ]
  },
  {
   "cell_type": "markdown",
   "metadata": {},
   "source": [
    "**Variadic Dictlist**"
   ]
  },
  {
   "cell_type": "code",
   "execution_count": null,
   "metadata": {},
   "outputs": [],
   "source": [
    "def dicts(*dictionaries):\n",
    "    for dictionary in dictionaries:\n",
    "        for key, value in dictionary.items():\n",
    "            print(key, value)\n",
    "\n",
    "\n",
    "dicts({\"x\": 1, \"y\": 2}, {\"x\": 3, \"y\": 4})"
   ]
  },
  {
   "cell_type": "markdown",
   "metadata": {},
   "source": [
    "**Variadic Key-value**"
   ]
  },
  {
   "cell_type": "code",
   "execution_count": null,
   "metadata": {},
   "outputs": [],
   "source": [
    "def function5(**kwargs):\n",
    "    kwargs[\"x\"], kwargs[\"y\"]\n",
    "    for key, value in kwargs.items():\n",
    "        print(\"{}: {}\".format(key, value))\n",
    "\n",
    "\n",
    "function5(x=1, y=2)"
   ]
  },
  {
   "cell_type": "markdown",
   "metadata": {},
   "source": [
    "---\n",
    "# **Parameter**\n",
    "---"
   ]
  },
  {
   "cell_type": "markdown",
   "metadata": {},
   "source": [
    "**Immutable (Copy)**"
   ]
  },
  {
   "cell_type": "code",
   "execution_count": null,
   "metadata": {},
   "outputs": [],
   "source": [
    "def function1(a, b):\n",
    "    return a, b, 1"
   ]
  },
  {
   "cell_type": "markdown",
   "metadata": {},
   "source": [
    "**Mutable(Global)**"
   ]
  },
  {
   "cell_type": "code",
   "execution_count": null,
   "metadata": {},
   "outputs": [],
   "source": [
    "def function2(a_local, b_local):\n",
    "    global a"
   ]
  },
  {
   "cell_type": "markdown",
   "metadata": {},
   "source": [
    "**Mutable (Reference)**"
   ]
  },
  {
   "cell_type": "code",
   "execution_count": null,
   "metadata": {},
   "outputs": [],
   "source": [
    "def function3(array: list, dictionary: dict, obj: object):\n",
    "    dictionary[\"x\"] = 99\n",
    "    # instance.x = 99\n",
    "    array[0] = 99  # Single element can be changed\n",
    "    array = [0, 0, 0]  # Full array can't be changed\n",
    "    obj[\"x\"] = 99  # Single property can be changed\n",
    "    obj = {\"a\": 0}  # Full object can't be changed\n",
    "\n",
    "\n",
    "function3(array=input_array, dictionary=input_dict, obj={\"x\": 0})"
   ]
  },
  {
   "cell_type": "markdown",
   "metadata": {},
   "source": [
    "**Default Value**"
   ]
  },
  {
   "cell_type": "code",
   "execution_count": null,
   "metadata": {},
   "outputs": [],
   "source": [
    "def function4(a, b, c=1):\n",
    "    pass"
   ]
  },
  {
   "cell_type": "markdown",
   "metadata": {},
   "source": [
    "---\n",
    "# **Walrus Operator**\n",
    "---"
   ]
  },
  {
   "cell_type": "code",
   "execution_count": null,
   "metadata": {},
   "outputs": [],
   "source": [
    "def get_status():\n",
    "    return True\n",
    "\n",
    "\n",
    "# Without Walrus operator\n",
    "status1 = get_status()\n",
    "if status1 == True:\n",
    "    print(\"Success 1\")\n",
    "    status1 = False\n",
    "\n",
    "# With Walrus operator\n",
    "if status2 := get_status() == True:\n",
    "    print(\"Success 2\")\n",
    "    status2 = False"
   ]
  },
  {
   "cell_type": "markdown",
   "metadata": {},
   "source": [
    "---\n",
    "# **Lambda Expression**\n",
    "---"
   ]
  },
  {
   "cell_type": "markdown",
   "metadata": {},
   "source": [
    "**Lambda vs Function**"
   ]
  },
  {
   "cell_type": "code",
   "execution_count": null,
   "metadata": {},
   "outputs": [],
   "source": [
    "# lambda parameter: expression\n",
    "a, b = 1, 2\n",
    "\n",
    "\n",
    "# Function definition\n",
    "def max_function(x, y):\n",
    "    return x if x > y else y\n",
    "\n",
    "\n",
    "print(max_function(a, b))\n",
    "\n",
    "# Lambda expression\n",
    "max_lambda = lambda x, y: x if x > y else y\n",
    "print(max_lambda(a, b))"
   ]
  },
  {
   "cell_type": "markdown",
   "metadata": {},
   "source": [
    "**Lambda vs Comprehension**"
   ]
  },
  {
   "cell_type": "code",
   "execution_count": null,
   "metadata": {},
   "outputs": [],
   "source": [
    "# With list comprehension\n",
    "list2 = [x * 1.1 for x in input_array]\n",
    "for item in list2:\n",
    "    print(item)\n",
    "\n",
    "# With lambda expression\n",
    "list3 = [lambda x=x: x * 1.1 for x in input_array]\n",
    "for item in list3:\n",
    "    print(item())"
   ]
  },
  {
   "cell_type": "markdown",
   "metadata": {},
   "source": [
    "---\n",
    "# **Map, Filter, Reduce**\n",
    "---"
   ]
  },
  {
   "cell_type": "markdown",
   "metadata": {},
   "source": [
    "**Map:**\n",
    "- Map applies the given function on each element of list\n",
    "- https://www.geeksforgeeks.org/python-map-function/\n",
    "\n",
    "**Filter:**\n",
    "- Filter applies given function on each element of list to filter the data\n",
    "- https://www.geeksforgeeks.org/filter-in-python/\n",
    "\n",
    "**Reduce:**\n",
    "- Reduce applies the function on two elements to get a resultant\n",
    "- This resultant is used as an input for next iteration\n",
    "- https://www.geeksforgeeks.org/reduce-in-python/"
   ]
  },
  {
   "cell_type": "markdown",
   "metadata": {},
   "source": [
    "**Using Function**"
   ]
  },
  {
   "cell_type": "code",
   "execution_count": null,
   "metadata": {},
   "outputs": [],
   "source": [
    "def mapper_fn(x):\n",
    "    return x + 0.1\n",
    "\n",
    "\n",
    "def filter_fn(x):\n",
    "    return x if x % 2 == 0 else None\n",
    "\n",
    "\n",
    "def reducer_fn(x, y):\n",
    "    return x + y\n",
    "\n",
    "\n",
    "map_result1 = list(map(mapper_fn, input_array))  # Map\n",
    "filter_result1 = list(filter(filter_fn, input_array))  # Filter\n",
    "reduce_result1 = functools.reduce(reducer_fn, input_array)  # Reduce"
   ]
  },
  {
   "cell_type": "markdown",
   "metadata": {},
   "source": [
    "**Using Lambda**"
   ]
  },
  {
   "cell_type": "code",
   "execution_count": null,
   "metadata": {},
   "outputs": [],
   "source": [
    "map_result2 = list(map(lambda x: x + 0.1, input_array))  # Map\n",
    "filter_result2 = list(filter(lambda x: x % 2 == 0, input_array))  # Filter\n",
    "reduce_result2 = functools.reduce(lambda x, y: x * y, input_array)  # Reduce"
   ]
  },
  {
   "cell_type": "markdown",
   "metadata": {},
   "source": [
    "**Sum using numpy and reduce**"
   ]
  },
  {
   "cell_type": "code",
   "execution_count": null,
   "metadata": {},
   "outputs": [],
   "source": [
    "np.sum(input_array)\n",
    "functools.reduce(lambda x, y: x + y, input_array)"
   ]
  },
  {
   "cell_type": "markdown",
   "metadata": {},
   "source": [
    "---\n",
    "# **Generator**\n",
    "---"
   ]
  },
  {
   "cell_type": "markdown",
   "metadata": {},
   "source": [
    "**Definition**"
   ]
  },
  {
   "cell_type": "markdown",
   "metadata": {},
   "source": [
    "- It is a lazy function which uses yield instead of return\n",
    "- It doesn't store intermediate data in memory\n",
    "- Yield **pauses** the generator execution\n",
    "- Return **stops** the function execution"
   ]
  },
  {
   "cell_type": "markdown",
   "metadata": {},
   "source": [
    "**Dataset**"
   ]
  },
  {
   "cell_type": "code",
   "execution_count": null,
   "metadata": {},
   "outputs": [],
   "source": [
    "num_samples, num_features, batch_size = 10, 5, 2\n",
    "lst = np.random.randint(low=0, high=10, size=(num_samples, num_features))"
   ]
  },
  {
   "cell_type": "markdown",
   "metadata": {},
   "source": [
    "**Function**"
   ]
  },
  {
   "cell_type": "code",
   "execution_count": null,
   "metadata": {},
   "outputs": [],
   "source": [
    "def batches_function(lst, batch_size):\n",
    "    batches = []\n",
    "    for index in range(0, len(lst), batch_size):\n",
    "        batches.append(lst[index : index + batch_size])\n",
    "    return batches"
   ]
  },
  {
   "cell_type": "markdown",
   "metadata": {},
   "source": [
    "**Generator**"
   ]
  },
  {
   "cell_type": "code",
   "execution_count": null,
   "metadata": {},
   "outputs": [],
   "source": [
    "def batches_generator(lst, batch_size):\n",
    "    for index in range(0, len(lst), batch_size):\n",
    "        yield lst[index : index + batch_size]"
   ]
  },
  {
   "cell_type": "markdown",
   "metadata": {},
   "source": [
    "**Usage**"
   ]
  },
  {
   "cell_type": "code",
   "execution_count": null,
   "metadata": {},
   "outputs": [],
   "source": [
    "for batch in batches_function(lst, batch_size):\n",
    "    print(\"Batch \\n{}\".format(batch))\n",
    "    print(\"------------------------\")\n",
    "\n",
    "\n",
    "for batch in batches_generator(lst, batch_size):\n",
    "    print(\"Batch \\n{}\".format(batch))\n",
    "    print(\"------------------------\")"
   ]
  },
  {
   "cell_type": "markdown",
   "metadata": {},
   "source": [
    "---\n",
    "# **Closure**\n",
    "---"
   ]
  },
  {
   "cell_type": "markdown",
   "metadata": {},
   "source": [
    "**Definition**"
   ]
  },
  {
   "cell_type": "markdown",
   "metadata": {},
   "source": [
    "- A nested function returned from inside another function\n",
    "- It has access to enclosing function scope even after enclosing function is terminated\n",
    "- It is a data hiding mechanism"
   ]
  },
  {
   "cell_type": "markdown",
   "metadata": {},
   "source": [
    "**Function - No data hiding**"
   ]
  },
  {
   "cell_type": "code",
   "execution_count": null,
   "metadata": {},
   "outputs": [],
   "source": [
    "def get_from_function():\n",
    "    data = {\"x\": 1, \"y\": 2}\n",
    "    return data\n",
    "\n",
    "\n",
    "data = get_from_function()\n",
    "data[\"x\"], data[\"y\"]"
   ]
  },
  {
   "cell_type": "markdown",
   "metadata": {},
   "source": [
    "**Closure - With data hiding**"
   ]
  },
  {
   "cell_type": "code",
   "execution_count": null,
   "metadata": {},
   "outputs": [],
   "source": [
    "def get_from_closure():\n",
    "    data = {\"x\": 1, \"y\": 2}\n",
    "\n",
    "    def _():\n",
    "        return data\n",
    "\n",
    "    return _\n",
    "\n",
    "\n",
    "data = get_from_closure()\n",
    "data()[\"x\"], data()[\"y\"]"
   ]
  },
  {
   "cell_type": "markdown",
   "metadata": {},
   "source": [
    "**Lambda Closure - With data hiding**"
   ]
  },
  {
   "cell_type": "code",
   "execution_count": null,
   "metadata": {},
   "outputs": [],
   "source": [
    "def get_from_lambda_closure():\n",
    "    data = {\"x\": 1, \"y\": 2}\n",
    "    return lambda: data\n",
    "\n",
    "\n",
    "data = get_from_lambda_closure()\n",
    "data()[\"x\"], data()[\"y\"]"
   ]
  },
  {
   "cell_type": "markdown",
   "metadata": {},
   "source": [
    "**Class - No data hiding**"
   ]
  },
  {
   "cell_type": "code",
   "execution_count": null,
   "metadata": {},
   "outputs": [],
   "source": [
    "class get_from_class:\n",
    "    def __init__(self):\n",
    "        self.x = 1\n",
    "        self.y = 2\n",
    "\n",
    "\n",
    "data = get_from_class()\n",
    "data.x, data.y"
   ]
  },
  {
   "cell_type": "markdown",
   "metadata": {},
   "source": [
    "**Data Class - No data hiding**"
   ]
  },
  {
   "cell_type": "code",
   "execution_count": null,
   "metadata": {},
   "outputs": [],
   "source": [
    "@dataclass\n",
    "class get_from_dataclass:\n",
    "    x: int = 1\n",
    "    y: int = 2\n",
    "\n",
    "\n",
    "data = get_from_dataclass()\n",
    "data.x, data.y"
   ]
  },
  {
   "cell_type": "markdown",
   "metadata": {},
   "source": [
    "**Functor - With data hiding**"
   ]
  },
  {
   "cell_type": "code",
   "execution_count": null,
   "metadata": {},
   "outputs": [],
   "source": [
    "class get_from_functor:\n",
    "    def __call__(self):\n",
    "        self.x = 1\n",
    "        self.y = 2\n",
    "        return self\n",
    "\n",
    "\n",
    "data = get_from_functor()\n",
    "data().x, data().y"
   ]
  },
  {
   "cell_type": "markdown",
   "metadata": {},
   "source": [
    "---\n",
    "# **Decorator**\n",
    "---"
   ]
  },
  {
   "cell_type": "markdown",
   "metadata": {},
   "source": [
    "- Application of closure (nested function inside a function)\n",
    "- It extends input function without modifying it"
   ]
  },
  {
   "cell_type": "markdown",
   "metadata": {},
   "source": [
    "**Simple Decorator**"
   ]
  },
  {
   "cell_type": "code",
   "execution_count": null,
   "metadata": {},
   "outputs": [],
   "source": [
    "def simple_decorator(func):\n",
    "    def wrapper():\n",
    "        print(\"Before calling simple decorated function\")\n",
    "        func()\n",
    "        print(\"After calling simple decorated function\")\n",
    "\n",
    "    return wrapper\n",
    "\n",
    "\n",
    "@simple_decorator\n",
    "def simple_function():\n",
    "    print(\"Calling simple function\")\n",
    "\n",
    "\n",
    "simple_function()"
   ]
  },
  {
   "cell_type": "markdown",
   "metadata": {},
   "source": [
    "**Timer Decorator**"
   ]
  },
  {
   "cell_type": "code",
   "execution_count": null,
   "metadata": {},
   "outputs": [],
   "source": [
    "def timer(func: Callable):\n",
    "    @functools.wraps(func)  # Recommended: To retain function information\n",
    "    def wrapper(*argv, **kwargs):\n",
    "        t1 = time.perf_counter()  # Start time\n",
    "        data = func(*argv, **kwargs)  # Call decorated function\n",
    "        t2 = time.perf_counter()  # End time\n",
    "        print(\"{}: {:.10f}ms\".format(func.__name__, t2 - t1))\n",
    "        return data  # Return result of decorated function\n",
    "\n",
    "    return wrapper  # Return wrapper\n",
    "\n",
    "\n",
    "@timer\n",
    "def get_list_1():\n",
    "    return list(range(10))\n",
    "\n",
    "\n",
    "@timer\n",
    "def get_list_2():\n",
    "    return [x for x in range(10)]\n",
    "\n",
    "\n",
    "@timer\n",
    "def get_list_3():\n",
    "    return list(x for x in range(10))\n",
    "\n",
    "\n",
    "get_list_1()\n",
    "get_list_2()\n",
    "get_list_3()"
   ]
  },
  {
   "cell_type": "markdown",
   "metadata": {},
   "source": [
    "**Cascaded Decorators**"
   ]
  },
  {
   "cell_type": "code",
   "execution_count": null,
   "metadata": {},
   "outputs": [],
   "source": [
    "def decorator1(func):\n",
    "    def wrapper():\n",
    "        func(), print(\"decorator 1\")\n",
    "\n",
    "    return wrapper\n",
    "\n",
    "\n",
    "def decorator2(func):\n",
    "    def wrapper():\n",
    "        func(), print(\"decorator 2\")\n",
    "\n",
    "    return wrapper\n",
    "\n",
    "\n",
    "@decorator2\n",
    "@decorator1\n",
    "def function1():\n",
    "    pass\n",
    "\n",
    "\n",
    "function1()"
   ]
  },
  {
   "cell_type": "markdown",
   "metadata": {},
   "source": [
    "**Parameterized Decorators**"
   ]
  },
  {
   "cell_type": "code",
   "execution_count": null,
   "metadata": {},
   "outputs": [],
   "source": [
    "def n_times(n=2):\n",
    "    def wrapper1(func):\n",
    "        def wrapper2(*argv, **kwargs):\n",
    "            for _ in range(n):\n",
    "                func(*argv, **kwargs)\n",
    "\n",
    "        return wrapper2\n",
    "\n",
    "    return wrapper1\n",
    "\n",
    "\n",
    "@n_times(n=5)\n",
    "def function1(input):\n",
    "    print(\"Hello World: {}\".format(input))\n",
    "\n",
    "\n",
    "function1(123)"
   ]
  },
  {
   "cell_type": "markdown",
   "metadata": {},
   "source": [
    "**Slowdown Decorator**"
   ]
  },
  {
   "cell_type": "code",
   "execution_count": null,
   "metadata": {},
   "outputs": [],
   "source": [
    "def slowdown(t=0):\n",
    "    def wrapper1(func):\n",
    "        def wrapper2(*argv, **kwargs):\n",
    "            data = func(*argv, **kwargs)\n",
    "            time.sleep(t)\n",
    "            return data\n",
    "\n",
    "        return wrapper2\n",
    "\n",
    "    return wrapper1\n",
    "\n",
    "\n",
    "@slowdown(t=1)\n",
    "def printer(param):\n",
    "    print(param)\n",
    "\n",
    "\n",
    "counter = 0\n",
    "for _ in range(10):\n",
    "    global coutner\n",
    "    counter += 1\n",
    "    printer(counter)"
   ]
  },
  {
   "cell_type": "markdown",
   "metadata": {},
   "source": [
    "---\n",
    "# **Memoization**\n",
    "---"
   ]
  },
  {
   "cell_type": "markdown",
   "metadata": {},
   "source": [
    "TODO"
   ]
  }
 ],
 "metadata": {
  "kernelspec": {
   "display_name": "projects",
   "language": "python",
   "name": "python3"
  },
  "language_info": {
   "codemirror_mode": {
    "name": "ipython",
    "version": 3
   },
   "file_extension": ".py",
   "mimetype": "text/x-python",
   "name": "python",
   "nbconvert_exporter": "python",
   "pygments_lexer": "ipython3",
   "version": "3.1.0"
  }
 },
 "nbformat": 4,
 "nbformat_minor": 2
}
