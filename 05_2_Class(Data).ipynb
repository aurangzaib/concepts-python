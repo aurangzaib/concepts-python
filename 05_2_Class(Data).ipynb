{
 "cells": [
  {
   "cell_type": "code",
   "execution_count": 1,
   "metadata": {},
   "outputs": [],
   "source": [
    "\"\"\"\n",
    "\n",
    " Description:\n",
    " Data Class\n",
    " \n",
    " Modifications:\n",
    " ---------------------------------------------------------------------------------------\n",
    " Date      Vers.  Comment                                                     Name\n",
    " ---------------------------------------------------------------------------------------\n",
    " 01.10.17  01.00  Created\t\t\t\t\t\t\t\t\t\t\t\t      Siddiqui\n",
    " 31.10.23  02.00  Updated\t\t\t\t\t\t\t\t\t\t\t\t      Siddiqui\n",
    " 30.01.24  03.00  Notebook\t\t\t\t\t\t\t\t\t\t\t\t      Siddiqui\n",
    " ---------------------------------------------------------------------------------------\n",
    "\n",
    "\"\"\"\n",
    "\n",
    "from dataclasses import dataclass, field"
   ]
  },
  {
   "cell_type": "markdown",
   "metadata": {},
   "source": [
    "---\n",
    "# **Note**\n",
    "---"
   ]
  },
  {
   "cell_type": "markdown",
   "metadata": {},
   "source": [
    "- Composition is used instead of Inheritance in the examples below\n",
    "- Initial values can be passed on instantiation (as normal class)\n",
    "- Always provide the type of property when using dataclass\n",
    "    - Without type, static property is defined\n",
    "    - With type, instance property is defined\n",
    "- No constructor needs to be defined\n",
    "- Frozen properties can be defined"
   ]
  },
  {
   "cell_type": "markdown",
   "metadata": {},
   "source": [
    "---\n",
    "# **Definition**\n",
    "---"
   ]
  },
  {
   "cell_type": "code",
   "execution_count": 2,
   "metadata": {},
   "outputs": [],
   "source": [
    "class Complex:\n",
    "    def __init__(self, r=0, i=0.0):\n",
    "        self.imaginary = i\n",
    "        self.real = r\n",
    "\n",
    "\n",
    "@dataclass\n",
    "class DataClass:\n",
    "    c: Complex = Complex()\n",
    "    x: int = 1\n",
    "\n",
    "    def my_func(self):\n",
    "        return self.c\n",
    "\n",
    "\n",
    "@dataclass\n",
    "class NestedDataClass:\n",
    "    dt: DataClass = field(default_factory=DataClass)\n",
    "    y: float = 1.1\n",
    "    z: int = 0  # Type attribution is mandatory for empty properties\n",
    "\n",
    "    def __post_init__(self):  # Post Constructor\n",
    "        self.z = self.y + 1"
   ]
  },
  {
   "cell_type": "markdown",
   "metadata": {},
   "source": [
    "---\n",
    "# **Usage**\n",
    "---"
   ]
  },
  {
   "cell_type": "code",
   "execution_count": 3,
   "metadata": {},
   "outputs": [
    {
     "name": "stdout",
     "output_type": "stream",
     "text": [
      "3\n",
      "2\n",
      "99\n",
      "---------------------------------------------\n",
      "6\n",
      "5\n",
      "7\n",
      "8\n",
      "9\n"
     ]
    }
   ],
   "source": [
    "dtcls = DataClass(Complex(2, 3), 99)\n",
    "print(dtcls.c.imaginary)\n",
    "print(dtcls.c.real)\n",
    "print(dtcls.x)\n",
    "dtcls.x = 4\n",
    "\n",
    "print(\"---------------------------------------------\")\n",
    "\n",
    "nsdtcls = NestedDataClass(DataClass(Complex(5, 6), 7), 8)\n",
    "print(nsdtcls.dt.c.imaginary)\n",
    "print(nsdtcls.dt.c.real)\n",
    "print(nsdtcls.dt.x)\n",
    "print(nsdtcls.y)\n",
    "print(nsdtcls.z)"
   ]
  }
 ],
 "metadata": {
  "kernelspec": {
   "display_name": "projects",
   "language": "python",
   "name": "python3"
  },
  "language_info": {
   "codemirror_mode": {
    "name": "ipython",
    "version": 3
   },
   "file_extension": ".py",
   "mimetype": "text/x-python",
   "name": "python",
   "nbconvert_exporter": "python",
   "pygments_lexer": "ipython3",
   "version": "3.11.7"
  }
 },
 "nbformat": 4,
 "nbformat_minor": 2
}
